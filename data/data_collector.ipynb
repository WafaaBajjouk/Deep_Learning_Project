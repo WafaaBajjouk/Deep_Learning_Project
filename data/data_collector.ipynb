{
 "cells": [
  {
   "cell_type": "markdown",
   "id": "8fc63fc7-0556-4ec8-9e2d-29af5ad94cd5",
   "metadata": {},
   "source": [
    "### TODO download BTC"
   ]
  },
  {
   "cell_type": "markdown",
   "id": "01361eda-16c3-4efb-9945-f79b070bd949",
   "metadata": {
    "id": "01361eda-16c3-4efb-9945-f79b070bd949"
   },
   "source": [
    "# [Alpha Vantage](https://www.alphavantage.co/documentation/#news-sentiment)\n",
    "Limitations:\n",
    "* 25 calls/day (they seem to block based on fingerprint, not key, so try to **change runtime on Colab for each ticker**)\n",
    "* max 1000 results/call"
   ]
  },
  {
   "cell_type": "code",
   "execution_count": 1,
   "id": "f680c6b5-1866-4dce-a215-07129cb168d1",
   "metadata": {
    "id": "f680c6b5-1866-4dce-a215-07129cb168d1"
   },
   "outputs": [],
   "source": [
    "#arguments\n",
    "\n",
    "av_key = 'LFZXFLHI45IN7AXV'\n",
    "av_ticker = 'CRYPTO:BTC' #'CRYPTO:BTC' 'CRYPTO:ETH' 'CRYPTO:SOL'\n",
    "av_from = '20120101T0000' #YYYYMMDDTHHMM\n",
    "av_to = '' if av_ticker=='CRYPTO:SOL' else '20240101T0000' #Llama 3.1 knowledge cutoff\n",
    "av_limit = 1000"
   ]
  },
  {
   "cell_type": "code",
   "execution_count": 2,
   "id": "29cde11b-3cf4-4ea8-85a8-19585ce72dfa",
   "metadata": {
    "colab": {
     "base_uri": "https://localhost:8080/",
     "height": 221
    },
    "id": "29cde11b-3cf4-4ea8-85a8-19585ce72dfa",
    "outputId": "1ca808eb-75ee-471a-8be4-30164bf992aa"
   },
   "outputs": [
    {
     "ename": "KeyError",
     "evalue": "'feed'",
     "output_type": "error",
     "traceback": [
      "\u001b[0;31m---------------------------------------------------------------------------\u001b[0m",
      "\u001b[0;31mKeyError\u001b[0m                                  Traceback (most recent call last)",
      "Cell \u001b[0;32mIn[2], line 12\u001b[0m\n\u001b[1;32m     10\u001b[0m url \u001b[38;5;241m=\u001b[39m \u001b[38;5;124mf\u001b[39m\u001b[38;5;124m'\u001b[39m\u001b[38;5;124mhttps://www.alphavantage.co/query?function=NEWS_SENTIMENT&tickers=\u001b[39m\u001b[38;5;132;01m{\u001b[39;00mav_ticker\u001b[38;5;132;01m}\u001b[39;00m\u001b[38;5;124m&apikey=\u001b[39m\u001b[38;5;132;01m{\u001b[39;00mav_key\u001b[38;5;132;01m}\u001b[39;00m\u001b[38;5;124m&time_from=\u001b[39m\u001b[38;5;132;01m{\u001b[39;00mav_from\u001b[38;5;132;01m}\u001b[39;00m\u001b[38;5;124m&time_to=\u001b[39m\u001b[38;5;132;01m{\u001b[39;00mav_to\u001b[38;5;132;01m}\u001b[39;00m\u001b[38;5;124m&limit=\u001b[39m\u001b[38;5;132;01m{\u001b[39;00mav_limit\u001b[38;5;132;01m}\u001b[39;00m\u001b[38;5;124m'\u001b[39m\n\u001b[1;32m     11\u001b[0m av_data \u001b[38;5;241m=\u001b[39m requests\u001b[38;5;241m.\u001b[39mget(url)\u001b[38;5;241m.\u001b[39mjson()\n\u001b[0;32m---> 12\u001b[0m av_feed \u001b[38;5;241m=\u001b[39m [{\u001b[38;5;241m*\u001b[39m\u001b[38;5;241m*\u001b[39mitem, \u001b[38;5;124m'\u001b[39m\u001b[38;5;124mticker\u001b[39m\u001b[38;5;124m'\u001b[39m: av_ticker\u001b[38;5;241m.\u001b[39msplit(\u001b[38;5;124m'\u001b[39m\u001b[38;5;124m:\u001b[39m\u001b[38;5;124m'\u001b[39m)[\u001b[38;5;241m-\u001b[39m\u001b[38;5;241m1\u001b[39m]} \u001b[38;5;28;01mfor\u001b[39;00m item \u001b[38;5;129;01min\u001b[39;00m av_data[\u001b[38;5;124m'\u001b[39m\u001b[38;5;124mfeed\u001b[39m\u001b[38;5;124m'\u001b[39m]] \u001b[38;5;66;03m#error if rate limit reached\u001b[39;00m\n\u001b[1;32m     13\u001b[0m \u001b[38;5;28mprint\u001b[39m(\u001b[38;5;124m'\u001b[39m\u001b[38;5;130;01m\\n\u001b[39;00m\u001b[38;5;124m'\u001b[39m \u001b[38;5;241m+\u001b[39m av_ticker, end\u001b[38;5;241m=\u001b[39m\u001b[38;5;124m'\u001b[39m\u001b[38;5;124m: 1 \u001b[39m\u001b[38;5;124m'\u001b[39m)\n\u001b[1;32m     14\u001b[0m av_df \u001b[38;5;241m=\u001b[39m pd\u001b[38;5;241m.\u001b[39mconcat([av_df, pd\u001b[38;5;241m.\u001b[39mDataFrame(av_feed)], ignore_index\u001b[38;5;241m=\u001b[39m\u001b[38;5;28;01mTrue\u001b[39;00m)\n",
      "\u001b[0;31mKeyError\u001b[0m: 'feed'"
     ]
    }
   ],
   "source": [
    "#collect\n",
    "\n",
    "import pandas as pd\n",
    "import requests\n",
    "from itertools import count\n",
    "\n",
    "av_df = pd.DataFrame()\n",
    "\n",
    "#first call\n",
    "url = f'https://www.alphavantage.co/query?function=NEWS_SENTIMENT&tickers={av_ticker}&apikey={av_key}&time_from={av_from}&time_to={av_to}&limit={av_limit}'\n",
    "av_data = requests.get(url).json()\n",
    "av_feed = [{**item, 'ticker': av_ticker.split(':')[-1]} for item in av_data['feed']] #error if rate limit reached\n",
    "print('\\n' + av_ticker, end=': 1 ')\n",
    "av_df = pd.concat([av_df, pd.DataFrame(av_feed)], ignore_index=True)\n",
    "\n",
    "#subsequent calls\n",
    "for av_call in count(2):\n",
    "    av_last = av_df['time_published'].iat[-1][:-2] #trims seconds\n",
    "    url = f'https://www.alphavantage.co/query?function=NEWS_SENTIMENT&tickers={av_ticker}&apikey={av_key}&time_from={av_from}&time_to={av_last}&limit={av_limit}'\n",
    "    av_data = requests.get(url).json()\n",
    "    if not 'feed' in av_data:\n",
    "        print('rate limit reached', end='')\n",
    "        break\n",
    "    print(av_call, end=' ')\n",
    "    av_feed = [{**item, 'ticker':av_ticker.split(':')[-1]} for item in av_data['feed'][1:]] #skips first one\n",
    "    if not av_feed:\n",
    "        break\n",
    "    av_df = pd.concat([av_df, pd.DataFrame(av_feed)], ignore_index=True)"
   ]
  },
  {
   "cell_type": "code",
   "execution_count": 3,
   "id": "5fa2ac7d-1642-4d8a-a557-136d50dae022",
   "metadata": {
    "colab": {
     "base_uri": "https://localhost:8080/",
     "height": 1000
    },
    "id": "5fa2ac7d-1642-4d8a-a557-136d50dae022",
    "outputId": "f46d3dbe-4946-450d-865d-ff724893b701"
   },
   "outputs": [
    {
     "data": {
      "text/html": [
       "<div>\n",
       "<style scoped>\n",
       "    .dataframe tbody tr th:only-of-type {\n",
       "        vertical-align: middle;\n",
       "    }\n",
       "\n",
       "    .dataframe tbody tr th {\n",
       "        vertical-align: top;\n",
       "    }\n",
       "\n",
       "    .dataframe thead th {\n",
       "        text-align: right;\n",
       "    }\n",
       "</style>\n",
       "<table border=\"1\" class=\"dataframe\">\n",
       "  <thead>\n",
       "    <tr style=\"text-align: right;\">\n",
       "      <th></th>\n",
       "    </tr>\n",
       "  </thead>\n",
       "  <tbody>\n",
       "  </tbody>\n",
       "</table>\n",
       "</div>"
      ],
      "text/plain": [
       "Empty DataFrame\n",
       "Columns: []\n",
       "Index: []"
      ]
     },
     "execution_count": 3,
     "metadata": {},
     "output_type": "execute_result"
    }
   ],
   "source": [
    "#show\n",
    "\n",
    "av_df"
   ]
  },
  {
   "cell_type": "code",
   "execution_count": 4,
   "id": "5a225720-4e56-4afa-bce2-b18eaa760d5d",
   "metadata": {
    "id": "5a225720-4e56-4afa-bce2-b18eaa760d5d"
   },
   "outputs": [],
   "source": [
    "#save\n",
    "\n",
    "name = av_ticker.replace(':', '_').lower()+'.csv'\n",
    "av_df[['ticker', 'title', 'summary']].rename(columns={'title': 'headline', 'summary': 'preview'}).to_csv(name, index=False)"
   ]
  },
  {
   "cell_type": "markdown",
   "id": "c86d86d7-4acd-43bd-bfbf-6a6ade9082d9",
   "metadata": {
    "id": "c86d86d7-4acd-43bd-bfbf-6a6ade9082d9"
   },
   "source": [
    "# [Finnhub](https://finnhub.io/docs/api/company-news)\n",
    "Limitations:\n",
    "* 60 calls/minute\n",
    "* max 1 year of historical data\n",
    "* US companies only (no crypto etc.)"
   ]
  },
  {
   "cell_type": "code",
   "execution_count": 4,
   "id": "QnHt5beguj_-",
   "metadata": {
    "colab": {
     "base_uri": "https://localhost:8080/"
    },
    "id": "QnHt5beguj_-",
    "outputId": "5b63422a-58e0-4326-e757-0e8d870763a5"
   },
   "outputs": [],
   "source": [
    "# pip install finnhub-python"
   ]
  },
  {
   "cell_type": "code",
   "execution_count": 9,
   "id": "cf31016c-35a2-432d-997a-a584301ef89c",
   "metadata": {
    "id": "cf31016c-35a2-432d-997a-a584301ef89c",
    "scrolled": true
   },
   "outputs": [],
   "source": [
    "#arguments\n",
    "\n",
    "fh_key = 'cqnr07hr01qo8864qbpgcqnr07hr01qo8864qbq0'\n",
    "fh_tickers = [\n",
    "    'AAPL', 'MSFT', 'NVDA', #information technology\n",
    "    'JPM', 'V', 'MA', #financials\n",
    "    'LLY', 'JNJ', 'PFE', #health care\n",
    "    'AMZN', 'TSLA', #consumer discretionary\n",
    "    'META', 'NFLX', #communication services\n",
    "    'GE', 'CAT', 'UBER', #industrials\n",
    "    'PG', 'COST', 'WMT', 'KO', #consumer staples\n",
    "    'XOM', #energy\n",
    "    'NEE', #utilities\n",
    "    'PLD', #real Estate\n",
    "    'LIN'] #materials\n",
    "fh_from = '2023-01-01' #YYYY-MM-DD\n",
    "fh_to = '2025-01-01'"
   ]
  },
  {
   "cell_type": "code",
   "execution_count": 10,
   "id": "bf9615cf-5c97-4f37-8dc1-492ca06a9c83",
   "metadata": {
    "colab": {
     "base_uri": "https://localhost:8080/"
    },
    "id": "bf9615cf-5c97-4f37-8dc1-492ca06a9c83",
    "outputId": "771f6053-fccb-4e35-9b42-c99caf73b21d"
   },
   "outputs": [
    {
     "name": "stdout",
     "output_type": "stream",
     "text": [
      "\n",
      "AAPL: 1 2 3 4 5 6 7 8 9 10 11 12 13 14 15 16 17 18 19 20 21 22 23 24 25 26 27 28 29 30 31 32 33 34 35 36 37 38 39 40 41 42 43 44 45 46 47 48 49 50 51 52 53 54 55 56 57 58 59 60 61 62 63 64 65 66 67 68 69 \n",
      "MSFT: 1 2 3 4 5 6 7 8 9 10 11 12 13 14 15 16 17 18 19 20 21 22 23 24 25 26 27 28 29 30 31 32 33 34 35 36 37 38 39 40 41 42 43 44 45 46 47 48 49 50 51 52 53 54 55 56 57 58 59 60 61 62 63 64 65 66 67 68 69 \n",
      "NVDA: 1 2 3 4 5 6 7 8 9 10 11 12 13 14 15 16 17 18 19 20 21 22 23 24 25 26 27 28 29 30 31 32 33 34 35 36 37 38 39 40 41 42 43 44 45 46 47 48 49 50 51 52 53 54 55 56 57 58 59 60 61 62 63 64 65 66 67 68 69 70 71 72 73 74 75 76 77 \n",
      "JPM: 1 2 3 4 5 6 7 8 9 10 11 12 13 14 15 16 17 18 19 20 21 22 23 24 25 \n",
      "V: 1 2 3 4 5 6 7 8 9 10 11 12 13 14 15 16 \n",
      "MA: 1 2 3 4 5 6 7 8 9 10 11 12 13 14 15 \n",
      "LLY: 1 2 3 4 5 6 7 8 9 10 11 12 13 14 15 16 17 18 19 20 21 22 23 24 25 \n",
      "JNJ: 1 2 3 4 5 6 7 8 9 10 11 12 13 14 15 16 17 18 19 \n",
      "PFE: 1 2 3 4 5 6 7 8 9 10 11 12 13 14 15 16 17 18 19 20 21 22 23 \n",
      "AMZN: 1 2 3 4 5 6 7 8 9 10 11 12 13 14 15 16 17 18 19 20 21 22 23 24 25 26 27 28 29 30 31 32 33 34 35 36 37 38 39 40 41 42 43 44 45 46 47 48 49 50 51 52 53 54 55 56 57 58 59 60 61 62 63 64 65 \n",
      "TSLA: 1 2 3 4 5 6 7 8 9 10 11 12 13 14 15 16 17 18 19 20 21 22 23 24 25 26 27 28 29 30 31 32 33 34 35 36 37 38 39 40 41 42 43 44 45 46 47 48 49 50 51 52 53 54 55 56 57 58 59 60 61 62 63 64 65 66 67 68 69 \n",
      "META: 1 2 3 4 5 6 7 8 9 10 11 12 13 14 15 16 17 18 19 20 21 22 23 24 25 26 27 28 29 30 31 32 33 34 35 36 37 38 39 40 41 42 43 44 45 46 47 48 49 \n",
      "NFLX: 1 2 3 4 5 6 7 8 9 10 11 12 13 14 15 16 17 18 19 20 21 22 23 24 25 \n",
      "GE: 1 2 3 4 5 6 7 8 9 10 11 \n",
      "CAT: 1 2 3 4 5 6 7 8 9 10 \n",
      "UBER: 1 2 3 4 5 6 7 8 9 10 11 12 13 14 15 16 17 18 \n",
      "PG: 1 2 3 4 5 6 7 8 9 10 11 \n",
      "COST: 1 2 3 4 5 6 7 8 9 10 11 12 13 14 15 16 17 18 19 20 \n",
      "WMT: 1 2 3 4 5 6 7 8 9 10 11 12 13 14 15 16 17 18 19 20 21 22 23 24 25 26 27 \n",
      "KO: 1 2 3 4 5 6 7 8 9 10 11 12 13 14 15 16 \n",
      "XOM: 1 2 3 4 5 6 7 8 9 10 11 12 13 14 15 16 17 18 19 20 21 22 23 \n",
      "NEE: 1 2 3 4 5 6 7 8 9 10 11 12 13 \n",
      "PLD: 1 2 3 4 5 6 7 8 \n",
      "LIN: 1 2 3 4 5 "
     ]
    }
   ],
   "source": [
    "#collect\n",
    "\n",
    "import finnhub\n",
    "import pandas as pd\n",
    "from itertools import count\n",
    "from time import sleep\n",
    "\n",
    "client = finnhub.Client(fh_key)\n",
    "fh_df = pd.DataFrame()\n",
    "for fh_ticker in fh_tickers:\n",
    "\n",
    "    #first call\n",
    "    fh_data = client.company_news(fh_ticker, fh_from, fh_to)\n",
    "    print('\\n' + fh_ticker, end=': 1 ')\n",
    "    fh_df = pd.concat([fh_df, pd.DataFrame(fh_data)], ignore_index=True)\n",
    "\n",
    "    #subsequent calls\n",
    "    for fh_call in count(2):\n",
    "        sleep(1)\n",
    "        fh_last = pd.Timestamp(fh_df['datetime'].iat[-1] - 86400, unit='s').strftime('%Y-%m-%d') #day before\n",
    "        fh_data = client.company_news(fh_ticker, fh_from, fh_last)\n",
    "        print(fh_call, end=' ')\n",
    "        if not fh_data:\n",
    "            break\n",
    "        fh_df = pd.concat([fh_df, pd.DataFrame(fh_data)], ignore_index=True)\n",
    "\n",
    "fh_df['datetime'] = pd.to_datetime(fh_df['datetime'], unit='s')"
   ]
  },
  {
   "cell_type": "code",
   "execution_count": 11,
   "id": "e2465192-916a-4a44-bd18-94cc4f859ffd",
   "metadata": {
    "id": "e2465192-916a-4a44-bd18-94cc4f859ffd",
    "outputId": "d79bf959-3020-44fb-a1db-061c461d006d"
   },
   "outputs": [
    {
     "data": {
      "text/html": [
       "<div>\n",
       "<style scoped>\n",
       "    .dataframe tbody tr th:only-of-type {\n",
       "        vertical-align: middle;\n",
       "    }\n",
       "\n",
       "    .dataframe tbody tr th {\n",
       "        vertical-align: top;\n",
       "    }\n",
       "\n",
       "    .dataframe thead th {\n",
       "        text-align: right;\n",
       "    }\n",
       "</style>\n",
       "<table border=\"1\" class=\"dataframe\">\n",
       "  <thead>\n",
       "    <tr style=\"text-align: right;\">\n",
       "      <th></th>\n",
       "      <th>category</th>\n",
       "      <th>datetime</th>\n",
       "      <th>headline</th>\n",
       "      <th>id</th>\n",
       "      <th>image</th>\n",
       "      <th>related</th>\n",
       "      <th>source</th>\n",
       "      <th>summary</th>\n",
       "      <th>url</th>\n",
       "    </tr>\n",
       "  </thead>\n",
       "  <tbody>\n",
       "    <tr>\n",
       "      <th>0</th>\n",
       "      <td>company</td>\n",
       "      <td>2024-09-10 13:40:01</td>\n",
       "      <td>How AI features of iPhone and rival smartphone...</td>\n",
       "      <td>129805077</td>\n",
       "      <td></td>\n",
       "      <td>AAPL</td>\n",
       "      <td>Finnhub</td>\n",
       "      <td>Apple unveiled a raft of AI-powered features f...</td>\n",
       "      <td>https://finnhub.io/api/news?id=96b0ea901b09f33...</td>\n",
       "    </tr>\n",
       "    <tr>\n",
       "      <th>1</th>\n",
       "      <td>company</td>\n",
       "      <td>2024-09-10 12:59:53</td>\n",
       "      <td>EU triumphs in court fight with Google and App...</td>\n",
       "      <td>129804213</td>\n",
       "      <td></td>\n",
       "      <td>AAPL</td>\n",
       "      <td>Finnhub</td>\n",
       "      <td>LONDON — Google lost its last bid to overturn ...</td>\n",
       "      <td>https://finnhub.io/api/news?id=799b3edde809d28...</td>\n",
       "    </tr>\n",
       "    <tr>\n",
       "      <th>2</th>\n",
       "      <td>company</td>\n",
       "      <td>2024-09-10 12:26:44</td>\n",
       "      <td>EU flexes regulatory muscle, forcing Google an...</td>\n",
       "      <td>129803507</td>\n",
       "      <td></td>\n",
       "      <td>AAPL</td>\n",
       "      <td>Finnhub</td>\n",
       "      <td>LONDON — Google lost its last bid to overturn ...</td>\n",
       "      <td>https://finnhub.io/api/news?id=165265588309247...</td>\n",
       "    </tr>\n",
       "    <tr>\n",
       "      <th>3</th>\n",
       "      <td>company</td>\n",
       "      <td>2024-09-10 11:24:31</td>\n",
       "      <td>Apple: Wedbush Securities raises its price target</td>\n",
       "      <td>129802585</td>\n",
       "      <td></td>\n",
       "      <td>AAPL</td>\n",
       "      <td>Finnhub</td>\n",
       "      <td>Wedbush Securities announced on Tuesday that i...</td>\n",
       "      <td>https://finnhub.io/api/news?id=56522aa26f47bcd...</td>\n",
       "    </tr>\n",
       "    <tr>\n",
       "      <th>4</th>\n",
       "      <td>company</td>\n",
       "      <td>2024-09-10 11:19:05</td>\n",
       "      <td>Google and Apple have to pay billions in fines...</td>\n",
       "      <td>129802535</td>\n",
       "      <td></td>\n",
       "      <td>AAPL</td>\n",
       "      <td>Finnhub</td>\n",
       "      <td>LONDON — Google lost its last bid to overturn ...</td>\n",
       "      <td>https://finnhub.io/api/news?id=aa28086fa547807...</td>\n",
       "    </tr>\n",
       "    <tr>\n",
       "      <th>...</th>\n",
       "      <td>...</td>\n",
       "      <td>...</td>\n",
       "      <td>...</td>\n",
       "      <td>...</td>\n",
       "      <td>...</td>\n",
       "      <td>...</td>\n",
       "      <td>...</td>\n",
       "      <td>...</td>\n",
       "      <td>...</td>\n",
       "    </tr>\n",
       "    <tr>\n",
       "      <th>144165</th>\n",
       "      <td>company</td>\n",
       "      <td>2023-09-19 03:38:00</td>\n",
       "      <td>Linde PLC stock rises Tuesday, outperforms market</td>\n",
       "      <td>122680821</td>\n",
       "      <td></td>\n",
       "      <td>LIN</td>\n",
       "      <td>MarketWatch</td>\n",
       "      <td>Looking for stock market analysis and research...</td>\n",
       "      <td>https://finnhub.io/api/news?id=1365718ce42ae0e...</td>\n",
       "    </tr>\n",
       "    <tr>\n",
       "      <th>144166</th>\n",
       "      <td>company</td>\n",
       "      <td>2023-09-18 03:38:00</td>\n",
       "      <td>Linde PLC stock falls Monday, underperforms ma...</td>\n",
       "      <td>122664014</td>\n",
       "      <td></td>\n",
       "      <td>LIN</td>\n",
       "      <td>MarketWatch</td>\n",
       "      <td>Looking for stock market analysis and research...</td>\n",
       "      <td>https://finnhub.io/api/news?id=328b478427593bd...</td>\n",
       "    </tr>\n",
       "    <tr>\n",
       "      <th>144167</th>\n",
       "      <td>company</td>\n",
       "      <td>2023-09-17 21:34:00</td>\n",
       "      <td>SECOND DEEP DRILL HOLE INTERCEPTS 1,000 METRES...</td>\n",
       "      <td>122641909</td>\n",
       "      <td></td>\n",
       "      <td>LIN</td>\n",
       "      <td>PR Newswire</td>\n",
       "      <td>Looking for stock market analysis and research...</td>\n",
       "      <td>https://finnhub.io/api/news?id=723a35b22ecac0c...</td>\n",
       "    </tr>\n",
       "    <tr>\n",
       "      <th>144168</th>\n",
       "      <td>company</td>\n",
       "      <td>2023-09-17 07:33:42</td>\n",
       "      <td>Dividend Champion, Contender, And Challenger H...</td>\n",
       "      <td>122633800</td>\n",
       "      <td>https://static.seekingalpha.com/cdn/s3/uploads...</td>\n",
       "      <td>LIN</td>\n",
       "      <td>SeekingAlpha</td>\n",
       "      <td>Dividend Champions list is a monthly compilati...</td>\n",
       "      <td>https://finnhub.io/api/news?id=7172fb3b1d742ba...</td>\n",
       "    </tr>\n",
       "    <tr>\n",
       "      <th>144169</th>\n",
       "      <td>company</td>\n",
       "      <td>2023-09-16 12:38:19</td>\n",
       "      <td>10 Best ADR Stocks To Buy Now</td>\n",
       "      <td>122624925</td>\n",
       "      <td>https://s.yimg.com/ny/api/res/1.2/IX0kf3VH6FPE...</td>\n",
       "      <td>LIN</td>\n",
       "      <td>Yahoo</td>\n",
       "      <td>In this piece, we will take a look at the ten ...</td>\n",
       "      <td>https://finnhub.io/api/news?id=48b87456f974a6a...</td>\n",
       "    </tr>\n",
       "  </tbody>\n",
       "</table>\n",
       "<p>144170 rows × 9 columns</p>\n",
       "</div>"
      ],
      "text/plain": [
       "       category            datetime  \\\n",
       "0       company 2024-09-10 13:40:01   \n",
       "1       company 2024-09-10 12:59:53   \n",
       "2       company 2024-09-10 12:26:44   \n",
       "3       company 2024-09-10 11:24:31   \n",
       "4       company 2024-09-10 11:19:05   \n",
       "...         ...                 ...   \n",
       "144165  company 2023-09-19 03:38:00   \n",
       "144166  company 2023-09-18 03:38:00   \n",
       "144167  company 2023-09-17 21:34:00   \n",
       "144168  company 2023-09-17 07:33:42   \n",
       "144169  company 2023-09-16 12:38:19   \n",
       "\n",
       "                                                 headline         id  \\\n",
       "0       How AI features of iPhone and rival smartphone...  129805077   \n",
       "1       EU triumphs in court fight with Google and App...  129804213   \n",
       "2       EU flexes regulatory muscle, forcing Google an...  129803507   \n",
       "3       Apple: Wedbush Securities raises its price target  129802585   \n",
       "4       Google and Apple have to pay billions in fines...  129802535   \n",
       "...                                                   ...        ...   \n",
       "144165  Linde PLC stock rises Tuesday, outperforms market  122680821   \n",
       "144166  Linde PLC stock falls Monday, underperforms ma...  122664014   \n",
       "144167  SECOND DEEP DRILL HOLE INTERCEPTS 1,000 METRES...  122641909   \n",
       "144168  Dividend Champion, Contender, And Challenger H...  122633800   \n",
       "144169                      10 Best ADR Stocks To Buy Now  122624925   \n",
       "\n",
       "                                                    image related  \\\n",
       "0                                                            AAPL   \n",
       "1                                                            AAPL   \n",
       "2                                                            AAPL   \n",
       "3                                                            AAPL   \n",
       "4                                                            AAPL   \n",
       "...                                                   ...     ...   \n",
       "144165                                                        LIN   \n",
       "144166                                                        LIN   \n",
       "144167                                                        LIN   \n",
       "144168  https://static.seekingalpha.com/cdn/s3/uploads...     LIN   \n",
       "144169  https://s.yimg.com/ny/api/res/1.2/IX0kf3VH6FPE...     LIN   \n",
       "\n",
       "              source                                            summary  \\\n",
       "0            Finnhub  Apple unveiled a raft of AI-powered features f...   \n",
       "1            Finnhub  LONDON — Google lost its last bid to overturn ...   \n",
       "2            Finnhub  LONDON — Google lost its last bid to overturn ...   \n",
       "3            Finnhub  Wedbush Securities announced on Tuesday that i...   \n",
       "4            Finnhub  LONDON — Google lost its last bid to overturn ...   \n",
       "...              ...                                                ...   \n",
       "144165   MarketWatch  Looking for stock market analysis and research...   \n",
       "144166   MarketWatch  Looking for stock market analysis and research...   \n",
       "144167   PR Newswire  Looking for stock market analysis and research...   \n",
       "144168  SeekingAlpha  Dividend Champions list is a monthly compilati...   \n",
       "144169         Yahoo  In this piece, we will take a look at the ten ...   \n",
       "\n",
       "                                                      url  \n",
       "0       https://finnhub.io/api/news?id=96b0ea901b09f33...  \n",
       "1       https://finnhub.io/api/news?id=799b3edde809d28...  \n",
       "2       https://finnhub.io/api/news?id=165265588309247...  \n",
       "3       https://finnhub.io/api/news?id=56522aa26f47bcd...  \n",
       "4       https://finnhub.io/api/news?id=aa28086fa547807...  \n",
       "...                                                   ...  \n",
       "144165  https://finnhub.io/api/news?id=1365718ce42ae0e...  \n",
       "144166  https://finnhub.io/api/news?id=328b478427593bd...  \n",
       "144167  https://finnhub.io/api/news?id=723a35b22ecac0c...  \n",
       "144168  https://finnhub.io/api/news?id=7172fb3b1d742ba...  \n",
       "144169  https://finnhub.io/api/news?id=48b87456f974a6a...  \n",
       "\n",
       "[144170 rows x 9 columns]"
      ]
     },
     "execution_count": 11,
     "metadata": {},
     "output_type": "execute_result"
    }
   ],
   "source": [
    "#show\n",
    "\n",
    "fh_df"
   ]
  },
  {
   "cell_type": "code",
   "execution_count": 12,
   "id": "544fad48-4fd4-44b1-8bf0-c5250ae75ffc",
   "metadata": {
    "id": "544fad48-4fd4-44b1-8bf0-c5250ae75ffc"
   },
   "outputs": [],
   "source": [
    "#save\n",
    "\n",
    "fh_df[['related', 'headline', 'summary']].rename(columns={'related': 'ticker', 'summary': 'preview'}).to_csv('stocks.csv', index=False)"
   ]
  },
  {
   "cell_type": "code",
   "execution_count": null,
   "id": "hChqvncavQ8m",
   "metadata": {
    "id": "hChqvncavQ8m"
   },
   "outputs": [],
   "source": []
  }
 ],
 "metadata": {
  "accelerator": "TPU",
  "colab": {
   "gpuType": "V28",
   "provenance": []
  },
  "kernelspec": {
   "display_name": "Python 3 (ipykernel)",
   "language": "python",
   "name": "python3"
  },
  "language_info": {
   "codemirror_mode": {
    "name": "ipython",
    "version": 3
   },
   "file_extension": ".py",
   "mimetype": "text/x-python",
   "name": "python",
   "nbconvert_exporter": "python",
   "pygments_lexer": "ipython3",
   "version": "3.12.4"
  }
 },
 "nbformat": 4,
 "nbformat_minor": 5
}
